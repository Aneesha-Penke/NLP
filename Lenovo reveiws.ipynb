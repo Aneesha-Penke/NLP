{
 "cells": [
  {
   "cell_type": "markdown",
   "id": "ed429121-3528-4526-8ba3-f0022d074046",
   "metadata": {},
   "source": [
    "### Import libraries"
   ]
  },
  {
   "cell_type": "code",
   "execution_count": 1,
   "id": "301e7978-e889-4a79-b8fb-ac93c492113c",
   "metadata": {},
   "outputs": [],
   "source": [
    "import nltk\n",
    "import pandas as pd\n",
    "import matplotlib.pyplot as plt\n",
    "import re\n",
    "import string\n",
    "from nltk.tokenize import word_tokenize\n",
    "from nltk.corpus import stopwords\n",
    "from nltk import pos_tag\n",
    "from nltk.stem import WordNetLemmatizer\n",
    "from gensim.models import LdaModel,CoherenceModel\n",
    "from gensim import corpora\n"
   ]
  },
  {
   "cell_type": "code",
   "execution_count": 2,
   "id": "960e0daa-a4ad-4900-a91e-22c5e2182558",
   "metadata": {},
   "outputs": [],
   "source": [
    "import warnings\n",
    "warnings.filterwarnings('ignore')"
   ]
  },
  {
   "cell_type": "code",
   "execution_count": 3,
   "id": "e177bd6b-26b0-4feb-a805-74e5a61b09fd",
   "metadata": {},
   "outputs": [
    {
     "name": "stderr",
     "output_type": "stream",
     "text": [
      "[nltk_data] Downloading package punkt to\n",
      "[nltk_data]     C:\\Users\\anees\\AppData\\Roaming\\nltk_data...\n",
      "[nltk_data]   Package punkt is already up-to-date!\n",
      "[nltk_data] Downloading package stopwords to\n",
      "[nltk_data]     C:\\Users\\anees\\AppData\\Roaming\\nltk_data...\n",
      "[nltk_data]   Package stopwords is already up-to-date!\n",
      "[nltk_data] Downloading package averaged_perceptron_tagger_eng to\n",
      "[nltk_data]     C:\\Users\\anees\\AppData\\Roaming\\nltk_data...\n",
      "[nltk_data]   Package averaged_perceptron_tagger_eng is already up-to-\n",
      "[nltk_data]       date!\n",
      "[nltk_data] Downloading package wordnet to\n",
      "[nltk_data]     C:\\Users\\anees\\AppData\\Roaming\\nltk_data...\n",
      "[nltk_data]   Package wordnet is already up-to-date!\n"
     ]
    },
    {
     "data": {
      "text/plain": [
       "True"
      ]
     },
     "execution_count": 3,
     "metadata": {},
     "output_type": "execute_result"
    }
   ],
   "source": [
    "\n",
    "nltk.download('punkt')\n",
    "nltk.download('stopwords')\n",
    "nltk.download('averaged_perceptron_tagger_eng')\n",
    "nltk.download('wordnet')\n"
   ]
  },
  {
   "cell_type": "markdown",
   "id": "66367a51-ebd1-4133-8767-9c8d5fd78466",
   "metadata": {},
   "source": [
    "### 1. Read the .csv file using Pandas, and look at the first few top records"
   ]
  },
  {
   "cell_type": "code",
   "execution_count": 4,
   "id": "6f75cb7a-00ae-4a9f-a32f-1ebaaeaaaae1",
   "metadata": {},
   "outputs": [
    {
     "data": {
      "text/html": [
       "<div>\n",
       "<style scoped>\n",
       "    .dataframe tbody tr th:only-of-type {\n",
       "        vertical-align: middle;\n",
       "    }\n",
       "\n",
       "    .dataframe tbody tr th {\n",
       "        vertical-align: top;\n",
       "    }\n",
       "\n",
       "    .dataframe thead th {\n",
       "        text-align: right;\n",
       "    }\n",
       "</style>\n",
       "<table border=\"1\" class=\"dataframe\">\n",
       "  <thead>\n",
       "    <tr style=\"text-align: right;\">\n",
       "      <th></th>\n",
       "      <th>sentiment</th>\n",
       "      <th>review</th>\n",
       "    </tr>\n",
       "  </thead>\n",
       "  <tbody>\n",
       "    <tr>\n",
       "      <th>0</th>\n",
       "      <td>1</td>\n",
       "      <td>Good but need updates and improvements</td>\n",
       "    </tr>\n",
       "    <tr>\n",
       "      <th>1</th>\n",
       "      <td>0</td>\n",
       "      <td>Worst mobile i have bought ever, Battery is dr...</td>\n",
       "    </tr>\n",
       "    <tr>\n",
       "      <th>2</th>\n",
       "      <td>1</td>\n",
       "      <td>when I will get my 10% cash back.... its alrea...</td>\n",
       "    </tr>\n",
       "    <tr>\n",
       "      <th>3</th>\n",
       "      <td>1</td>\n",
       "      <td>Good</td>\n",
       "    </tr>\n",
       "    <tr>\n",
       "      <th>4</th>\n",
       "      <td>0</td>\n",
       "      <td>The worst phone everThey have changed the last...</td>\n",
       "    </tr>\n",
       "  </tbody>\n",
       "</table>\n",
       "</div>"
      ],
      "text/plain": [
       "   sentiment                                             review\n",
       "0          1             Good but need updates and improvements\n",
       "1          0  Worst mobile i have bought ever, Battery is dr...\n",
       "2          1  when I will get my 10% cash back.... its alrea...\n",
       "3          1                                               Good\n",
       "4          0  The worst phone everThey have changed the last..."
      ]
     },
     "execution_count": 4,
     "metadata": {},
     "output_type": "execute_result"
    }
   ],
   "source": [
    "df=pd.read_csv('K8 Reviews v0.2.csv')\n",
    "df.head()"
   ]
  },
  {
   "cell_type": "code",
   "execution_count": 5,
   "id": "d837d5da-0d01-476d-9f5f-99e855595bb2",
   "metadata": {},
   "outputs": [
    {
     "data": {
      "text/plain": [
       "sentiment    0\n",
       "review       0\n",
       "dtype: int64"
      ]
     },
     "execution_count": 5,
     "metadata": {},
     "output_type": "execute_result"
    }
   ],
   "source": [
    "df.isna().sum()"
   ]
  },
  {
   "cell_type": "code",
   "execution_count": 6,
   "id": "117feaec-6c4d-4860-bbd5-a89c6b1d38fa",
   "metadata": {},
   "outputs": [
    {
     "data": {
      "text/plain": [
       "(14675, 2)"
      ]
     },
     "execution_count": 6,
     "metadata": {},
     "output_type": "execute_result"
    }
   ],
   "source": [
    "df.shape"
   ]
  },
  {
   "cell_type": "markdown",
   "id": "0cbc43a6-6fdd-4b3a-afae-7cdcd92a03c8",
   "metadata": {},
   "source": [
    "### 2. Normalize the casing of the review text, and extract the text into a list for easier manipulation."
   ]
  },
  {
   "cell_type": "code",
   "execution_count": 11,
   "id": "609b6ec6-19c8-42fb-b83e-61b2a3982044",
   "metadata": {
    "scrolled": true
   },
   "outputs": [
    {
     "data": {
      "text/plain": [
       "['good but need updates and improvements',\n",
       " \"worst mobile i have bought ever, battery is draining like hell, backup is only 6 to 7 hours with internet uses, even if i put mobile idle its getting discharged.this is biggest lie from amazon & lenove which is not at all expected, they are making full by saying that battery is 4000mah & booster charger is fake, it takes at least 4 to 5 hours to be fully charged.don't know how lenovo will survive by making full of us.please don;t go for this else you will regret like me.\",\n",
       " 'when i will get my 10% cash back.... its already 15 january..',\n",
       " 'good',\n",
       " 'the worst phone everthey have changed the last phone but the problem is still same and the amazon is not returning the phone .highly disappointing of amazon']"
      ]
     },
     "execution_count": 11,
     "metadata": {},
     "output_type": "execute_result"
    }
   ],
   "source": [
    "reviews=list(df['review'].str.lower())\n",
    "reviews[:5]"
   ]
  },
  {
   "cell_type": "code",
   "execution_count": 12,
   "id": "a6e03f8f-246b-4199-b751-078c6d03e0ee",
   "metadata": {},
   "outputs": [
    {
     "name": "stderr",
     "output_type": "stream",
     "text": [
      "[nltk_data] Downloading package punkt_tab to\n",
      "[nltk_data]     C:\\Users\\anees\\AppData\\Roaming\\nltk_data...\n",
      "[nltk_data]   Package punkt_tab is already up-to-date!\n"
     ]
    },
    {
     "data": {
      "text/plain": [
       "True"
      ]
     },
     "execution_count": 12,
     "metadata": {},
     "output_type": "execute_result"
    }
   ],
   "source": [
    "nltk.download('punkt_tab')"
   ]
  },
  {
   "cell_type": "markdown",
   "id": "ff4f255f-7170-4bfd-af7c-89ac8e94071d",
   "metadata": {},
   "source": [
    "### 3. Tokenize the reviews using NLTK's word_tokenize function"
   ]
  },
  {
   "cell_type": "code",
   "execution_count": 13,
   "id": "8f46b96e-3738-4e1f-ba23-37bf37f333c8",
   "metadata": {},
   "outputs": [],
   "source": [
    "review_tokens=[word_tokenize(review) for review in reviews]"
   ]
  },
  {
   "cell_type": "markdown",
   "id": "0d6ae658-d485-450f-ae72-ffb84923e2c0",
   "metadata": {},
   "source": [
    "### 4. Perform partsof speech tagging on each sentence using the NLTK POS tagger"
   ]
  },
  {
   "cell_type": "code",
   "execution_count": 14,
   "id": "4c607287-5fba-4752-9725-83e85590ee91",
   "metadata": {},
   "outputs": [],
   "source": [
    "review_tagg=[pos_tag(tokens) for tokens in review_tokens]"
   ]
  },
  {
   "cell_type": "markdown",
   "id": "490802c3-e822-4899-9240-67e97ebd6a23",
   "metadata": {},
   "source": [
    "### 5. For the topic model, include nouns only\n",
    "a. Find all POS tags that correspond to nouns\n",
    "\n",
    "b. Limit the data to terms with these tags"
   ]
  },
  {
   "cell_type": "code",
   "execution_count": 15,
   "id": "e590d759-8928-4785-92d2-382016e23b55",
   "metadata": {},
   "outputs": [],
   "source": [
    "def filter_nouns(review_tagg):\n",
    "    noun_tags=['NN','NNS','NNP','NNPS']\n",
    "    return [word for word,tag in review_tagg if tag in noun_tags]\n",
    "    \n",
    "noun_reviews=[filter_nouns(tagged) for tagged in review_tagg]"
   ]
  },
  {
   "cell_type": "markdown",
   "id": "249dad32-28d6-4f36-b223-40dd9993cbb5",
   "metadata": {},
   "source": [
    "### 6. Lemmatize\n",
    "a. The different forms of the terms need to be treated as one\n",
    "\n",
    "b. For the time being, there is no need to provide a POS tag to the lemmatizer\n"
   ]
  },
  {
   "cell_type": "code",
   "execution_count": 16,
   "id": "4c188a95-7715-4d15-bac1-336be5584eb6",
   "metadata": {},
   "outputs": [],
   "source": [
    "lemmatizer=nltk.stem.WordNetLemmatizer()"
   ]
  },
  {
   "cell_type": "code",
   "execution_count": 17,
   "id": "37bb24e7-9731-43eb-ba86-7aa6cd875f77",
   "metadata": {},
   "outputs": [],
   "source": [
    "lematized_tokens=[[lemmatizer.lemmatize(word) for word in reviews] for reviews in noun_reviews]"
   ]
  },
  {
   "cell_type": "markdown",
   "id": "8438ff1a-7131-4801-b69f-bddefd523efd",
   "metadata": {},
   "source": [
    "### 7. Remove stopwords and punctuations (if any)"
   ]
  },
  {
   "cell_type": "code",
   "execution_count": 18,
   "id": "b9e25692-29fb-478c-8eb2-8bc9bf69dc79",
   "metadata": {},
   "outputs": [],
   "source": [
    "stopwords_eng=set(stopwords.words('english'))\n",
    "punctuation=set(string.punctuation)"
   ]
  },
  {
   "cell_type": "code",
   "execution_count": 19,
   "id": "23e84e68-cd25-4d41-8a72-a863e835ccf1",
   "metadata": {},
   "outputs": [],
   "source": [
    "review_clean=[ [word for word in reviews if word not in stopwords_eng and word not in punctuation and len(word)>2]\n",
    "            for reviews in lematized_tokens]"
   ]
  },
  {
   "cell_type": "markdown",
   "id": "18e215ae-b4c7-4ad2-842d-80dab0db6360",
   "metadata": {},
   "source": [
    "### 8. Create a topic model using LDA on the cleaned up data with 12 topics\n",
    "a. Print the top terms for each topic\n",
    "\n",
    "b. Find the coherence of the model with the c_v metric"
   ]
  },
  {
   "cell_type": "code",
   "execution_count": 20,
   "id": "d7635abc-b8bf-4cfc-beeb-172d6b7490fe",
   "metadata": {},
   "outputs": [],
   "source": [
    "## create a dictionary\n",
    "dictionary=corpora.Dictionary(review_clean)\n",
    "corpus=[dictionary.doc2bow(text) for text in review_clean]"
   ]
  },
  {
   "cell_type": "code",
   "execution_count": 21,
   "id": "6f717f0d-6f60-40ce-98f5-9555d00bddee",
   "metadata": {},
   "outputs": [],
   "source": [
    "lda_model12=LdaModel(corpus=corpus,id2word=dictionary,num_topics=12,passes=10,random_state=42)"
   ]
  },
  {
   "cell_type": "code",
   "execution_count": 28,
   "id": "e019724e-ea02-47ec-bf2f-63114bb3465f",
   "metadata": {
    "scrolled": true
   },
   "outputs": [
    {
     "name": "stdout",
     "output_type": "stream",
     "text": [
      "[(0, '0.112*\"camera\" + 0.071*\"battery\" + 0.032*\"processor\" + 0.031*\"mode\" + 0.026*\"use\" + 0.022*\"usage\" + 0.022*\"day\" + 0.020*\"game\" + 0.019*\"issue\" + 0.019*\"ram\"'), (1, '0.287*\"camera\" + 0.206*\"quality\" + 0.108*\"performance\" + 0.078*\"....\" + 0.025*\"sound\" + 0.018*\"picture\" + 0.013*\"display\" + 0.011*\"item\" + 0.011*\"effect\" + 0.008*\".....\"')]\n",
      "[(0, '0.112*\"camera\" + 0.071*\"battery\" + 0.032*\"processor\" + 0.031*\"mode\" + 0.026*\"use\" + 0.022*\"usage\" + 0.022*\"day\" + 0.020*\"game\" + 0.019*\"issue\" + 0.019*\"ram\"'), (1, '0.287*\"camera\" + 0.206*\"quality\" + 0.108*\"performance\" + 0.078*\"....\" + 0.025*\"sound\" + 0.018*\"picture\" + 0.013*\"display\" + 0.011*\"item\" + 0.011*\"effect\" + 0.008*\".....\"')]\n",
      "[(0, '0.112*\"camera\" + 0.071*\"battery\" + 0.032*\"processor\" + 0.031*\"mode\" + 0.026*\"use\" + 0.022*\"usage\" + 0.022*\"day\" + 0.020*\"game\" + 0.019*\"issue\" + 0.019*\"ram\"'), (1, '0.287*\"camera\" + 0.206*\"quality\" + 0.108*\"performance\" + 0.078*\"....\" + 0.025*\"sound\" + 0.018*\"picture\" + 0.013*\"display\" + 0.011*\"item\" + 0.011*\"effect\" + 0.008*\".....\"')]\n",
      "[(0, '0.112*\"camera\" + 0.071*\"battery\" + 0.032*\"processor\" + 0.031*\"mode\" + 0.026*\"use\" + 0.022*\"usage\" + 0.022*\"day\" + 0.020*\"game\" + 0.019*\"issue\" + 0.019*\"ram\"'), (1, '0.287*\"camera\" + 0.206*\"quality\" + 0.108*\"performance\" + 0.078*\"....\" + 0.025*\"sound\" + 0.018*\"picture\" + 0.013*\"display\" + 0.011*\"item\" + 0.011*\"effect\" + 0.008*\".....\"')]\n",
      "[(0, '0.112*\"camera\" + 0.071*\"battery\" + 0.032*\"processor\" + 0.031*\"mode\" + 0.026*\"use\" + 0.022*\"usage\" + 0.022*\"day\" + 0.020*\"game\" + 0.019*\"issue\" + 0.019*\"ram\"'), (1, '0.287*\"camera\" + 0.206*\"quality\" + 0.108*\"performance\" + 0.078*\"....\" + 0.025*\"sound\" + 0.018*\"picture\" + 0.013*\"display\" + 0.011*\"item\" + 0.011*\"effect\" + 0.008*\".....\"')]\n",
      "[(0, '0.112*\"camera\" + 0.071*\"battery\" + 0.032*\"processor\" + 0.031*\"mode\" + 0.026*\"use\" + 0.022*\"usage\" + 0.022*\"day\" + 0.020*\"game\" + 0.019*\"issue\" + 0.019*\"ram\"'), (1, '0.287*\"camera\" + 0.206*\"quality\" + 0.108*\"performance\" + 0.078*\"....\" + 0.025*\"sound\" + 0.018*\"picture\" + 0.013*\"display\" + 0.011*\"item\" + 0.011*\"effect\" + 0.008*\".....\"')]\n",
      "[(0, '0.112*\"camera\" + 0.071*\"battery\" + 0.032*\"processor\" + 0.031*\"mode\" + 0.026*\"use\" + 0.022*\"usage\" + 0.022*\"day\" + 0.020*\"game\" + 0.019*\"issue\" + 0.019*\"ram\"'), (1, '0.287*\"camera\" + 0.206*\"quality\" + 0.108*\"performance\" + 0.078*\"....\" + 0.025*\"sound\" + 0.018*\"picture\" + 0.013*\"display\" + 0.011*\"item\" + 0.011*\"effect\" + 0.008*\".....\"')]\n",
      "[(0, '0.112*\"camera\" + 0.071*\"battery\" + 0.032*\"processor\" + 0.031*\"mode\" + 0.026*\"use\" + 0.022*\"usage\" + 0.022*\"day\" + 0.020*\"game\" + 0.019*\"issue\" + 0.019*\"ram\"'), (1, '0.287*\"camera\" + 0.206*\"quality\" + 0.108*\"performance\" + 0.078*\"....\" + 0.025*\"sound\" + 0.018*\"picture\" + 0.013*\"display\" + 0.011*\"item\" + 0.011*\"effect\" + 0.008*\".....\"')]\n",
      "[(0, '0.112*\"camera\" + 0.071*\"battery\" + 0.032*\"processor\" + 0.031*\"mode\" + 0.026*\"use\" + 0.022*\"usage\" + 0.022*\"day\" + 0.020*\"game\" + 0.019*\"issue\" + 0.019*\"ram\"'), (1, '0.287*\"camera\" + 0.206*\"quality\" + 0.108*\"performance\" + 0.078*\"....\" + 0.025*\"sound\" + 0.018*\"picture\" + 0.013*\"display\" + 0.011*\"item\" + 0.011*\"effect\" + 0.008*\".....\"')]\n",
      "[(0, '0.112*\"camera\" + 0.071*\"battery\" + 0.032*\"processor\" + 0.031*\"mode\" + 0.026*\"use\" + 0.022*\"usage\" + 0.022*\"day\" + 0.020*\"game\" + 0.019*\"issue\" + 0.019*\"ram\"'), (1, '0.287*\"camera\" + 0.206*\"quality\" + 0.108*\"performance\" + 0.078*\"....\" + 0.025*\"sound\" + 0.018*\"picture\" + 0.013*\"display\" + 0.011*\"item\" + 0.011*\"effect\" + 0.008*\".....\"')]\n",
      "[(0, '0.112*\"camera\" + 0.071*\"battery\" + 0.032*\"processor\" + 0.031*\"mode\" + 0.026*\"use\" + 0.022*\"usage\" + 0.022*\"day\" + 0.020*\"game\" + 0.019*\"issue\" + 0.019*\"ram\"'), (1, '0.287*\"camera\" + 0.206*\"quality\" + 0.108*\"performance\" + 0.078*\"....\" + 0.025*\"sound\" + 0.018*\"picture\" + 0.013*\"display\" + 0.011*\"item\" + 0.011*\"effect\" + 0.008*\".....\"')]\n",
      "[(0, '0.112*\"camera\" + 0.071*\"battery\" + 0.032*\"processor\" + 0.031*\"mode\" + 0.026*\"use\" + 0.022*\"usage\" + 0.022*\"day\" + 0.020*\"game\" + 0.019*\"issue\" + 0.019*\"ram\"'), (1, '0.287*\"camera\" + 0.206*\"quality\" + 0.108*\"performance\" + 0.078*\"....\" + 0.025*\"sound\" + 0.018*\"picture\" + 0.013*\"display\" + 0.011*\"item\" + 0.011*\"effect\" + 0.008*\".....\"')]\n",
      "Topic8, 0.078*\"phone\" + 0.064*\"note\" + 0.039*\"lenovo\" + 0.026*\"call\" + 0.021*\"feature\" + 0.019*\"time\" + 0.015*\"issue\" + 0.014*\"screen\" + 0.014*\"music\" + 0.013*\"option\"\n",
      "Topic10, 0.079*\"everything\" + 0.075*\"screen\" + 0.061*\"glass\" + 0.048*\"display\" + 0.046*\"box\" + 0.043*\"headphone\" + 0.031*\"gorilla\" + 0.019*\"bill\" + 0.017*\"headset\" + 0.016*\"plz\"\n",
      "Topic7, 0.194*\"money\" + 0.110*\"heat\" + 0.091*\"waste\" + 0.072*\"value\" + 0.028*\"set\" + 0.023*\"cam\" + 0.021*\"earphone\" + 0.018*\"need\" + 0.015*\"hand\" + 0.012*\"get\"\n",
      "Topic6, 0.109*\"speaker\" + 0.102*\"life\" + 0.076*\"battery\" + 0.063*\".....\" + 0.035*\"work\" + 0.033*\"touch\" + 0.029*\"mark\" + 0.021*\"function\" + 0.020*\"fast\" + 0.020*\"cell\"\n",
      "Topic4, 0.068*\"hai\" + 0.044*\"return\" + 0.044*\"cast\" + 0.038*\"star\" + 0.037*\"option\" + 0.028*\"policy\" + 0.021*\"awesome\" + 0.021*\"screen\" + 0.018*\"color\" + 0.016*\"interface\"\n",
      "Topic12, 0.534*\"phone\" + 0.076*\"price\" + 0.046*\"feature\" + 0.034*\"range\" + 0.019*\"camera\" + 0.018*\"budget\" + 0.012*\"month\" + 0.009*\"specification\" + 0.008*\"superb\" + 0.007*\"bug\"\n",
      "Topic1, 0.112*\"camera\" + 0.071*\"battery\" + 0.032*\"processor\" + 0.031*\"mode\" + 0.026*\"use\" + 0.022*\"usage\" + 0.022*\"day\" + 0.020*\"game\" + 0.019*\"issue\" + 0.019*\"ram\"\n",
      "Topic2, 0.287*\"camera\" + 0.206*\"quality\" + 0.108*\"performance\" + 0.078*\"....\" + 0.025*\"sound\" + 0.018*\"picture\" + 0.013*\"display\" + 0.011*\"item\" + 0.011*\"effect\" + 0.008*\".....\"\n",
      "Topic9, 0.234*\"problem\" + 0.086*\"heating\" + 0.049*\"issue\" + 0.043*\"device\" + 0.033*\"day\" + 0.028*\"update\" + 0.025*\"software\" + 0.021*\"network\" + 0.017*\"....\" + 0.016*\"superb\"\n",
      "Topic11, 0.328*\"product\" + 0.074*\"service\" + 0.062*\"amazon\" + 0.037*\"delivery\" + 0.021*\"replacement\" + 0.021*\"center\" + 0.020*\"lenovo\" + 0.019*\"day\" + 0.019*\"time\" + 0.018*\"purchase\"\n"
     ]
    }
   ],
   "source": [
    "topics=lda_model12.print_topics()\n",
    "for topic in topics:\n",
    "    print(topics[:2])\n",
    "\n",
    "for i,topic in lda_model12.print_topics(num_topics=10):\n",
    "    print(f\"Topic{i+1}, {topic}\")"
   ]
  },
  {
   "cell_type": "code",
   "execution_count": 29,
   "id": "09ba7200-e3d8-45f0-804f-87beebf027a2",
   "metadata": {},
   "outputs": [
    {
     "name": "stdout",
     "output_type": "stream",
     "text": [
      " Coherence score for 12 topics:  0.505512076453024\n"
     ]
    }
   ],
   "source": [
    "# Coherence of the model\n",
    "cohernce_ldamodel12=CoherenceModel(model=lda_model12,dictionary=dictionary,texts=review_clean,coherence='c_v')\n",
    "coherence_score12=cohernce_ldamodel12.get_coherence()\n",
    "print(f\" Coherence score for 12 topics:  {coherence_score12}\")"
   ]
  },
  {
   "cell_type": "markdown",
   "id": "a805511d-ad55-42bd-8829-59de2aa63c8c",
   "metadata": {},
   "source": [
    "### 9. Analyze the topics through the business lens\n",
    "\n",
    "a. Determine which of the topics can be combined"
   ]
  },
  {
   "cell_type": "code",
   "execution_count": 30,
   "id": "46a85406-8194-4eb4-9ec9-af4d33c291f4",
   "metadata": {
    "scrolled": true
   },
   "outputs": [
    {
     "name": "stdout",
     "output_type": "stream",
     "text": [
      "\n",
      "Topic 0:\n",
      "camera, battery, processor, mode, use, usage, day, game, issue, ram\n",
      "\n",
      "Topic 1:\n",
      "camera, quality, performance, ...., sound, picture, display, item, effect, .....\n",
      "\n",
      "Topic 2:\n",
      "issue, charger, network, sim, handset, jio, volta, month, turbo, piece\n",
      "\n",
      "Topic 3:\n",
      "hai, return, cast, star, option, policy, awesome, screen, color, interface\n",
      "\n",
      "Topic 4:\n",
      "battery, mobile, backup, hour, time, charge, issue, drain, charging, day\n",
      "\n",
      "Topic 5:\n",
      "speaker, life, battery, ....., work, touch, mark, function, fast, cell\n",
      "\n",
      "Topic 6:\n",
      "money, heat, waste, value, set, cam, earphone, need, hand, get\n",
      "\n",
      "Topic 7:\n",
      "phone, note, lenovo, call, feature, time, issue, screen, music, option\n",
      "\n",
      "Topic 8:\n",
      "problem, heating, issue, device, day, update, software, network, ...., superb\n",
      "\n",
      "Topic 9:\n",
      "everything, screen, glass, display, box, headphone, gorilla, bill, headset, plz\n",
      "\n",
      "Topic 10:\n",
      "product, service, amazon, delivery, replacement, center, lenovo, day, time, purchase\n",
      "\n",
      "Topic 11:\n",
      "phone, price, feature, range, camera, budget, month, specification, superb, bug\n"
     ]
    }
   ],
   "source": [
    "topics = lda_model12.print_topics(num_words=10)\n",
    "\n",
    "# Display keywords in a cleaner format\n",
    "for idx, topic in topics:\n",
    "    print(f\"\\nTopic {idx}:\")\n",
    "    keywords = [word.split('*')[1].strip().strip('\"') for word in topic.split('+')]\n",
    "    print(\", \".join(keywords))"
   ]
  },
  {
   "cell_type": "markdown",
   "id": "9e7c8638-c0c6-44f7-88ad-f7e100c83ac6",
   "metadata": {},
   "source": [
    "### 10. Create a topic model using LDA with what you think is the optimal number of topics\n",
    "\n",
    "a. Find the coherence of the model"
   ]
  },
  {
   "cell_type": "code",
   "execution_count": 31,
   "id": "2833ecd4-401b-41a8-bd1b-78b3b9e609c6",
   "metadata": {},
   "outputs": [],
   "source": [
    "# Try different topic numbers to find best coherence\n",
    "def compute_coherence_values(dictionary, corpus, texts, start, limit, step):\n",
    "    coherence_scores = []\n",
    "    for num_topics in range(start, limit, step):\n",
    "        model = LdaModel(corpus=corpus, id2word=dictionary, num_topics=num_topics, random_state=42, passes=10)\n",
    "        coherence_model = CoherenceModel(model=model, texts=texts, dictionary=dictionary, coherence='c_v')\n",
    "        coherence_scores.append((num_topics, coherence_model.get_coherence()))\n",
    "    return coherence_scores\n",
    "\n",
    "scores = compute_coherence_values(dictionary, corpus, review_clean, start=2, limit=20, step=2)"
   ]
  },
  {
   "cell_type": "code",
   "execution_count": 32,
   "id": "014135be-b6e8-4f76-97ff-50f97411988b",
   "metadata": {},
   "outputs": [
    {
     "data": {
      "image/png": "[encoded data removed]",
      "text/plain": [
       "<Figure size 640x480 with 1 Axes>"
      ]
     },
     "metadata": {},
     "output_type": "display_data"
    }
   ],
   "source": [
    "# Plot coherence scores\n",
    "x, y = zip(*scores)\n",
    "plt.plot(x, y)\n",
    "plt.xlabel(\"Number of Topics\")\n",
    "plt.ylabel(\"Coherence Score\")\n",
    "plt.title(\"Optimal Number of Topics\")\n",
    "plt.show()"
   ]
  },
  {
   "cell_type": "code",
   "execution_count": 33,
   "id": "f3f87421-e5ad-454c-9442-5c18f18d2796",
   "metadata": {},
   "outputs": [
    {
     "name": "stdout",
     "output_type": "stream",
     "text": [
      "Final coherence score: 0.6204850254792951\n"
     ]
    }
   ],
   "source": [
    "optimal_topics=4\n",
    "lda_model=LdaModel(corpus=corpus,id2word=dictionary,passes=10,num_topics=optimal_topics,random_state=42)\n",
    "coherence_score=CoherenceModel(dictionary=dictionary, model=lda_model,texts=review_clean,coherence='c_v').get_coherence()\n",
    "print(f\"Final coherence score: {coherence_score}\")"
   ]
  },
  {
   "cell_type": "markdown",
   "id": "71f541fb-f026-468f-b308-bba7dc443a65",
   "metadata": {},
   "source": [
    "### 11. Businesses should be able to interpret the topics.\n",
    "\n",
    "a. Name each of the identified topics\n",
    "\n",
    "b. Create a table with the topic names and the top ten terms in each to present to the business"
   ]
  },
  {
   "cell_type": "code",
   "execution_count": 34,
   "id": "61345015-d8a1-4ce9-b5da-78082abdb44a",
   "metadata": {},
   "outputs": [
    {
     "data": {
      "text/html": [
       "<div>\n",
       "<style scoped>\n",
       "    .dataframe tbody tr th:only-of-type {\n",
       "        vertical-align: middle;\n",
       "    }\n",
       "\n",
       "    .dataframe tbody tr th {\n",
       "        vertical-align: top;\n",
       "    }\n",
       "\n",
       "    .dataframe thead th {\n",
       "        text-align: right;\n",
       "    }\n",
       "</style>\n",
       "<table border=\"1\" class=\"dataframe\">\n",
       "  <thead>\n",
       "    <tr style=\"text-align: right;\">\n",
       "      <th></th>\n",
       "      <th>Topic Name</th>\n",
       "      <th>Top_term1</th>\n",
       "      <th>Top_term2</th>\n",
       "      <th>Top_term3</th>\n",
       "      <th>Top_term4</th>\n",
       "      <th>Top_term5</th>\n",
       "      <th>Top_term6</th>\n",
       "      <th>Top_term7</th>\n",
       "      <th>Top_term8</th>\n",
       "      <th>Top_term9</th>\n",
       "      <th>Top_term10</th>\n",
       "    </tr>\n",
       "  </thead>\n",
       "  <tbody>\n",
       "    <tr>\n",
       "      <th>0</th>\n",
       "      <td>Topic1</td>\n",
       "      <td>phone</td>\n",
       "      <td>battery</td>\n",
       "      <td>camera</td>\n",
       "      <td>quality</td>\n",
       "      <td>issue</td>\n",
       "      <td>performance</td>\n",
       "      <td>backup</td>\n",
       "      <td>time</td>\n",
       "      <td>day</td>\n",
       "      <td>hour</td>\n",
       "    </tr>\n",
       "    <tr>\n",
       "      <th>1</th>\n",
       "      <td>Topic2</td>\n",
       "      <td>product</td>\n",
       "      <td>problem</td>\n",
       "      <td>money</td>\n",
       "      <td>....</td>\n",
       "      <td>waste</td>\n",
       "      <td>heating</td>\n",
       "      <td>.....</td>\n",
       "      <td>delivery</td>\n",
       "      <td>amazon</td>\n",
       "      <td>value</td>\n",
       "    </tr>\n",
       "    <tr>\n",
       "      <th>2</th>\n",
       "      <td>Topic3</td>\n",
       "      <td>mobile</td>\n",
       "      <td>price</td>\n",
       "      <td>camera</td>\n",
       "      <td>feature</td>\n",
       "      <td>range</td>\n",
       "      <td>speaker</td>\n",
       "      <td>note</td>\n",
       "      <td>quality</td>\n",
       "      <td>superb</td>\n",
       "      <td>sound</td>\n",
       "    </tr>\n",
       "    <tr>\n",
       "      <th>3</th>\n",
       "      <td>Topic4</td>\n",
       "      <td>phone</td>\n",
       "      <td>note</td>\n",
       "      <td>network</td>\n",
       "      <td>lenovo</td>\n",
       "      <td>issue</td>\n",
       "      <td>screen</td>\n",
       "      <td>call</td>\n",
       "      <td>service</td>\n",
       "      <td>day</td>\n",
       "      <td>option</td>\n",
       "    </tr>\n",
       "  </tbody>\n",
       "</table>\n",
       "</div>"
      ],
      "text/plain": [
       "  Topic Name Top_term1 Top_term2 Top_term3 Top_term4 Top_term5    Top_term6  \\\n",
       "0     Topic1     phone   battery    camera   quality     issue  performance   \n",
       "1     Topic2   product   problem     money      ....     waste      heating   \n",
       "2     Topic3    mobile     price    camera   feature     range      speaker   \n",
       "3     Topic4     phone      note   network    lenovo     issue       screen   \n",
       "\n",
       "  Top_term7 Top_term8 Top_term9 Top_term10  \n",
       "0    backup      time       day       hour  \n",
       "1     .....  delivery    amazon      value  \n",
       "2      note   quality    superb      sound  \n",
       "3      call   service       day     option  "
      ]
     },
     "execution_count": 34,
     "metadata": {},
     "output_type": "execute_result"
    }
   ],
   "source": [
    "topics_table={}\n",
    "for idx,topic in lda_model.print_topics(num_topics=10):\n",
    "    topic_words=topic.split('+')\n",
    "    words=[word.split('*')[1].strip().strip(' \" ') for word in topic_words]\n",
    "    topics_table[f'Topic{idx+1}']=words\n",
    "\n",
    "topics_df=pd.DataFrame(topics_table).T\n",
    "topics_df.columns=[f\"Top_term{i+1}\" for i in range(10)]\n",
    "topics_df.reset_index(inplace=True)\n",
    "topics_df.rename(columns={'index':'Topic Name'},inplace=True)\n",
    "\n",
    "topics_df"
   ]
  },
  {
   "cell_type": "code",
   "execution_count": null,
   "id": "db340a2c-52b3-4657-8680-4bfd6f20afc1",
   "metadata": {},
   "outputs": [],
   "source": []
  }
 ],
 "metadata": {
  "kernelspec": {
   "display_name": "Python 3 (ipykernel)",
   "language": "python",
   "name": "python3"
  },
  "language_info": {
   "codemirror_mode": {
    "name": "ipython",
    "version": 3
   },
   "file_extension": ".py",
   "mimetype": "text/x-python",
   "name": "python",
   "nbconvert_exporter": "python",
   "pygments_lexer": "ipython3",
   "version": "3.12.7"
  }
 },
 "nbformat": 4,
 "nbformat_minor": 5
}
